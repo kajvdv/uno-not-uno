{
 "cells": [
  {
   "cell_type": "code",
   "execution_count": 2,
   "metadata": {},
   "outputs": [],
   "source": [
    "from time import sleep\n",
    "\n",
    "from selenium import webdriver\n",
    "from selenium.webdriver.common.keys import Keys\n",
    "from selenium.webdriver.common.by import By\n",
    "from selenium.webdriver.support.wait import WebDriverWait\n",
    "from selenium.webdriver.support import expected_conditions as EC"
   ]
  },
  {
   "cell_type": "code",
   "execution_count": 3,
   "metadata": {},
   "outputs": [],
   "source": [
    "driver = webdriver.Firefox()\n",
    "driver.get(\"http://localhost\")"
   ]
  },
  {
   "cell_type": "code",
   "execution_count": 4,
   "metadata": {},
   "outputs": [],
   "source": [
    "elem = driver.find_element(By.ID, \"username\")\n",
    "elem.clear()\n",
    "elem.send_keys(\"admin\")\n",
    "\n",
    "elem = driver.find_element(By.ID, \"password\")\n",
    "elem.clear()\n",
    "elem.send_keys(\"admin\")\n",
    "\n",
    "elem.send_keys(Keys.RETURN)"
   ]
  },
  {
   "cell_type": "code",
   "execution_count": 7,
   "metadata": {},
   "outputs": [],
   "source": [
    "wait = WebDriverWait(driver, 2)\n",
    "elem = wait.until(EC.element_to_be_clickable((By.XPATH, '//div[@class=\"lobby\" and h1[text()=\"admin\\'s game\"]]/button[text()=\"Join\"]')))\n",
    "\n",
    "elem.click()"
   ]
  },
  {
   "cell_type": "code",
   "execution_count": 46,
   "metadata": {},
   "outputs": [
    {
     "name": "stdout",
     "output_type": "stream",
     "text": [
      "29\n",
      "[14, 30, 43, 9, 15, 2, 51, 41]\n"
     ]
    }
   ],
   "source": [
    "suits = [\"hearts\", \"diamonds\", \"clubs\", \"spades\"]\n",
    "values = {\n",
    "  \"2\": 'two', \"3\": 'three', \"4\": 'four', \"5\": 'five', \"6\": 'six', \"7\": 'seven', \"8\": 'eight', \"9\": 'nine', \"10\": 'ten',\n",
    "  \"jack\": 'jack', \"queen\": 'queen', \"king\": 'king', \"ace\": 'ace', 'mirror': 'mirror', 'joker': 'joker'\n",
    "}\n",
    "\n",
    "def convert_card_to_int(value, suit):\n",
    "    # value, _, suit = elem.get_attribute('class').split()[-1].split(\"_\")\n",
    "    for num, text in values.items():\n",
    "        if value == text:\n",
    "            card_int = suits.index(suit) * 13 + list(values.values()).index(value)\n",
    "    return card_int\n",
    "\n",
    "def get_top_card():\n",
    "    elem = driver.find_element(By.CSS_SELECTOR, \".middle .card:last-child\")\n",
    "    value, _, suit = elem.get_attribute('class').split()[-1].split(\"_\")\n",
    "    return convert_card_to_int(value, suit)\n",
    "\n",
    "def get_hand_cards():\n",
    "    elems = driver.find_elements(By.CSS_SELECTOR, \".hand .player .card\")\n",
    "    cards = []\n",
    "    for elem in elems:\n",
    "        value, _, suit = elem.get_attribute('class').split()[-1].split(\"_\")\n",
    "        cards.append(convert_card_to_int(value, suit))\n",
    "    return cards\n",
    "    \n",
    "\n",
    "print(get_top_card())\n",
    "print(get_hand_cards())"
   ]
  },
  {
   "cell_type": "code",
   "execution_count": null,
   "metadata": {},
   "outputs": [],
   "source": []
  }
 ],
 "metadata": {
  "kernelspec": {
   "display_name": ".venv",
   "language": "python",
   "name": "python3"
  },
  "language_info": {
   "codemirror_mode": {
    "name": "ipython",
    "version": 3
   },
   "file_extension": ".py",
   "mimetype": "text/x-python",
   "name": "python",
   "nbconvert_exporter": "python",
   "pygments_lexer": "ipython3",
   "version": "3.13.2"
  }
 },
 "nbformat": 4,
 "nbformat_minor": 2
}
